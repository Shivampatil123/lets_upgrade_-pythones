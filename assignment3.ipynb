{
 "cells": [
  {
   "cell_type": "markdown",
   "metadata": {},
   "source": [
    "### sum of n numbers with help of while "
   ]
  },
  {
   "cell_type": "code",
   "execution_count": 11,
   "metadata": {},
   "outputs": [
    {
     "name": "stdout",
     "output_type": "stream",
     "text": [
      "enter the value of n= 10\n",
      "sum of n numbers is=55\n"
     ]
    }
   ],
   "source": [
    "n=int(input('enter the value of n= '))\n",
    "sum1=0\n",
    "i=1\n",
    "\n",
    "while i<=n:\n",
    "    sum1=sum1+i\n",
    "    i=i+1\n",
    "    \n",
    "print(f\"sum of n numbers is={sum1}\")\n",
    "    "
   ]
  },
  {
   "cell_type": "markdown",
   "metadata": {},
   "source": [
    "### take a integer and find prime or not\n"
   ]
  },
  {
   "cell_type": "code",
   "execution_count": 68,
   "metadata": {},
   "outputs": [
    {
     "name": "stdout",
     "output_type": "stream",
     "text": [
      "given integer is 67\n",
      "67 is prime number\n"
     ]
    }
   ],
   "source": [
    "a=int(input(\"given integer is \"))\n",
    "flag=0\n",
    "for i in range(2,a//2+1):\n",
    "    if (a%i)==0:\n",
    "        print(f\"{a} is not prime number\")\n",
    "        flag=1\n",
    "        break\n",
    "    else:\n",
    "        i=i+1\n",
    "if flag==0:\n",
    "        print(f\"{a} is prime number\")\n",
    "        "
   ]
  },
  {
   "cell_type": "code",
   "execution_count": 72,
   "metadata": {},
   "outputs": [
    {
     "name": "stdout",
     "output_type": "stream",
     "text": [
      "given integer is 44\n",
      "44 is not prime number\n"
     ]
    }
   ],
   "source": [
    "a=int(input(\"given integer is \"))\n",
    "can=0\n",
    "for i in range(2,a//2+1):\n",
    "    if (a%i)!=0:\n",
    "        i=i+1\n",
    "    else:\n",
    "        print(f\"{a} is not prime number\")\n",
    "        can=1\n",
    "        break\n",
    "if can==0:\n",
    "    print(f\"{a} is prime number\")"
   ]
  },
  {
   "cell_type": "code",
   "execution_count": null,
   "metadata": {},
   "outputs": [],
   "source": []
  }
 ],
 "metadata": {
  "kernelspec": {
   "display_name": "Python 3",
   "language": "python",
   "name": "python3"
  },
  "language_info": {
   "codemirror_mode": {
    "name": "ipython",
    "version": 3
   },
   "file_extension": ".py",
   "mimetype": "text/x-python",
   "name": "python",
   "nbconvert_exporter": "python",
   "pygments_lexer": "ipython3",
   "version": "3.7.3"
  }
 },
 "nbformat": 4,
 "nbformat_minor": 2
}
