{
 "cells": [
  {
   "cell_type": "markdown",
   "metadata": {},
   "source": [
    "##### sort in increasing order bt all \"zeros\" should be at right hand side"
   ]
  },
  {
   "cell_type": "code",
   "execution_count": 2,
   "metadata": {},
   "outputs": [
    {
     "data": {
      "text/plain": [
       "[1, 1, 1, 2, 2, 3, 4, 4, 10, 56, 56, 0, 0, 0, 0, 0]"
      ]
     },
     "execution_count": 2,
     "metadata": {},
     "output_type": "execute_result"
    }
   ],
   "source": [
    "  \n",
    "A=[0,1,2,10,4,1,0,56,2,0,1,3,0,56,0,4]\n",
    "def fun1 (x):\n",
    "    if x!=0:\n",
    "        return x \n",
    "    else:\n",
    "        return 999\n",
    "A.sort(key=fun1)\n",
    "A"
   ]
  },
  {
   "cell_type": "markdown",
   "metadata": {},
   "source": [
    "##### merge given sorted list and but  create new sorted list"
   ]
  },
  {
   "cell_type": "code",
   "execution_count": 5,
   "metadata": {},
   "outputs": [
    {
     "data": {
      "text/plain": [
       "[5, 10, 15, 20, 25, 35, 40, 45, 60, 60, 70, 80]"
      ]
     },
     "execution_count": 5,
     "metadata": {},
     "output_type": "execute_result"
    }
   ],
   "source": [
    "list1=[10,20,40,60,70,80]\n",
    "list2=[5,15,25,35,45,60]\n",
    "L=list1+list2\n",
    "L.sort()\n",
    "L"
   ]
  },
  {
   "cell_type": "markdown",
   "metadata": {},
   "source": [
    "#### merge given sorted list and but use only one loop (either while or for) to creat new sorted list [without using sort()]"
   ]
  },
  {
   "cell_type": "code",
   "execution_count": 33,
   "metadata": {},
   "outputs": [
    {
     "name": "stdout",
     "output_type": "stream",
     "text": [
      "[10, 20, 40, 60, 70, 80, 5, 15, 25, 35, 45, 60]\n",
      "12\n"
     ]
    }
   ],
   "source": [
    "list1=[10,20,40,60,70,80]\n",
    "list2=[5,15,25,35,45,60]\n",
    "L=list1+list2\n",
    "print(L)\n",
    "print(len(L))\n",
    "L1=[]"
   ]
  },
  {
   "cell_type": "markdown",
   "metadata": {},
   "source": [
    "# sort sending each max element to end"
   ]
  },
  {
   "cell_type": "code",
   "execution_count": 34,
   "metadata": {},
   "outputs": [
    {
     "data": {
      "text/plain": [
       "[5, 10, 15, 20, 25, 35, 40, 45, 60, 60, 70, 80]"
      ]
     },
     "execution_count": 34,
     "metadata": {},
     "output_type": "execute_result"
    }
   ],
   "source": [
    "\n",
    "for j in range (len(L),1,-1):\n",
    "    for i in range (j-1):\n",
    "        if L[i]<=L[i+1]:\n",
    "            swap=False\n",
    "        else:\n",
    "            x=L[i+1]\n",
    "            L[i+1]=L[i]\n",
    "            L[i]=x       \n",
    "        \n",
    "L   "
   ]
  },
  {
   "cell_type": "code",
   "execution_count": 43,
   "metadata": {},
   "outputs": [
    {
     "name": "stdout",
     "output_type": "stream",
     "text": [
      "[10, 20, 40, 60, 70, 80, 5, 15, 25, 35, 45, 60]\n",
      "12\n"
     ]
    }
   ],
   "source": [
    "list1=[10,20,40,60,70,80]\n",
    "list2=[5,15,25,35,45,60]\n",
    "L=list1+list2\n",
    "print(L)\n",
    "print(len(L))\n",
    "L1=[]"
   ]
  },
  {
   "cell_type": "code",
   "execution_count": 44,
   "metadata": {},
   "outputs": [],
   "source": [
    "j=len(L)\n",
    "for i in range (j-1):\n",
    "    if L[i]<=L[i+1]:\n",
    "        swap=False\n",
    "    else:\n",
    "        x=L[i+1]\n",
    "        L[i+1]=L[i]\n",
    "        L[i]=x\n"
   ]
  },
  {
   "cell_type": "code",
   "execution_count": 45,
   "metadata": {},
   "outputs": [
    {
     "data": {
      "text/plain": [
       "[10, 20, 40, 60, 70, 5, 15, 25, 35, 45, 60, 80]"
      ]
     },
     "execution_count": 45,
     "metadata": {},
     "output_type": "execute_result"
    }
   ],
   "source": [
    "L #only 80 at last"
   ]
  },
  {
   "cell_type": "code",
   "execution_count": 46,
   "metadata": {},
   "outputs": [
    {
     "data": {
      "text/plain": [
       "[10, 20, 40, 60, 5, 15, 25, 35, 45, 60, 70, 80]"
      ]
     },
     "execution_count": 46,
     "metadata": {},
     "output_type": "execute_result"
    }
   ],
   "source": [
    "for i in range (j-2):\n",
    "    if L[i]<=L[i+1]:\n",
    "        swap=False\n",
    "    else:\n",
    "        x=L[i+1]\n",
    "        L[i+1]=L[i]\n",
    "        L[i]=x\n",
    "L\n",
    "#70 at last"
   ]
  },
  {
   "cell_type": "code",
   "execution_count": 47,
   "metadata": {},
   "outputs": [
    {
     "data": {
      "text/plain": [
       "[10, 20, 40, 5, 15, 25, 35, 45, 60, 60, 70, 80]"
      ]
     },
     "execution_count": 47,
     "metadata": {},
     "output_type": "execute_result"
    }
   ],
   "source": [
    "\n",
    "for i in range (j-3):\n",
    "    if L[i]<=L[i+1]:\n",
    "        swap=False\n",
    "    else:\n",
    "        x=L[i+1]\n",
    "        L[i+1]=L[i]\n",
    "        L[i]=x\n",
    "\n",
    "L"
   ]
  },
  {
   "cell_type": "code",
   "execution_count": 48,
   "metadata": {},
   "outputs": [
    {
     "data": {
      "text/plain": [
       "[10, 20, 5, 15, 25, 35, 40, 45, 60, 60, 70, 80]"
      ]
     },
     "execution_count": 48,
     "metadata": {},
     "output_type": "execute_result"
    }
   ],
   "source": [
    "for i in range (j-4):\n",
    "    if L[i]<=L[i+1]:\n",
    "        swap=False\n",
    "    else:\n",
    "        x=L[i+1]\n",
    "        L[i+1]=L[i]\n",
    "        L[i]=x\n",
    "L"
   ]
  },
  {
   "cell_type": "code",
   "execution_count": 49,
   "metadata": {},
   "outputs": [],
   "source": [
    "for i in range (j-6):\n",
    "    if L[i]<=L[i+1]:\n",
    "        swap=False\n",
    "    else:\n",
    "        x=L[i+1]\n",
    "        L[i+1]=L[i]\n",
    "        L[i]=x"
   ]
  },
  {
   "cell_type": "code",
   "execution_count": 50,
   "metadata": {},
   "outputs": [
    {
     "data": {
      "text/plain": [
       "[10, 5, 15, 20, 25, 35, 40, 45, 60, 60, 70, 80]"
      ]
     },
     "execution_count": 50,
     "metadata": {},
     "output_type": "execute_result"
    }
   ],
   "source": [
    "L"
   ]
  },
  {
   "cell_type": "code",
   "execution_count": 51,
   "metadata": {},
   "outputs": [
    {
     "data": {
      "text/plain": [
       "[5, 10, 15, 20, 25, 35, 40, 45, 60, 60, 70, 80]"
      ]
     },
     "execution_count": 51,
     "metadata": {},
     "output_type": "execute_result"
    }
   ],
   "source": [
    "for i in range (j-7):\n",
    "    if L[i]<=L[i+1]:\n",
    "        swap=False\n",
    "    else:\n",
    "        x=L[i+1]\n",
    "        L[i+1]=L[i]\n",
    "        L[i]=x\n",
    "        \n",
    "L"
   ]
  },
  {
   "cell_type": "code",
   "execution_count": null,
   "metadata": {},
   "outputs": [],
   "source": []
  }
 ],
 "metadata": {
  "kernelspec": {
   "display_name": "Python 3",
   "language": "python",
   "name": "python3"
  },
  "language_info": {
   "codemirror_mode": {
    "name": "ipython",
    "version": 3
   },
   "file_extension": ".py",
   "mimetype": "text/x-python",
   "name": "python",
   "nbconvert_exporter": "python",
   "pygments_lexer": "ipython3",
   "version": "3.7.3"
  }
 },
 "nbformat": 4,
 "nbformat_minor": 2
}
